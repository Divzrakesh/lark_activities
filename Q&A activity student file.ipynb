{
 "cells": [
  {
   "cell_type": "markdown",
   "metadata": {},
   "source": [
    "## 1. Complete the following code to find the area of an equilateral triangle. Output should be as displayed"
   ]
  },
  {
   "cell_type": "code",
   "execution_count": 5,
   "metadata": {},
   "outputs": [
    {
     "name": "stdout",
     "output_type": "stream",
     "text": [
      "Enter the side of the equilateral triangle: 5\n",
      "10.825\n"
     ]
    }
   ],
   "source": [
    "import math\n",
    "side = float(input(\"Enter the side of the equilateral triangle: \"))\n",
    "area = ((math.sqrt(3))/4)*pow(side,2)\n",
    "print(round(area,3))\n"
   ]
  },
  {
   "cell_type": "markdown",
   "metadata": {},
   "source": [
    "## 2. Write a program to count the number of each characters in a string"
   ]
  },
  {
   "cell_type": "code",
   "execution_count": 4,
   "metadata": {},
   "outputs": [
    {
     "name": "stdout",
     "output_type": "stream",
     "text": [
      "Enter the string: apple\n",
      "Count of all characters in  apple is  {'a': 1, 'p': 2, 'l': 1, 'e': 1}\n"
     ]
    }
   ],
   "source": [
    "name = input(\"Enter the string: \")\n",
    "count = {}\n",
    "for i in name:\n",
    "    if i in count: \n",
    "        count[i]+=1\n",
    "    else:\n",
    "        count[i]=1\n",
    "print(\"Count of all characters in \",name,\"is \",count)"
   ]
  },
  {
   "cell_type": "markdown",
   "metadata": {},
   "source": [
    "## 3. Write a program to find the area and perimeter of a rectangle using functions"
   ]
  },
  {
   "cell_type": "code",
   "execution_count": 6,
   "metadata": {},
   "outputs": [
    {
     "name": "stdout",
     "output_type": "stream",
     "text": [
      "Enter the length of rectangle: 8\n",
      "Enter the breadth of rectangle: 5\n",
      "Area of the rectangle is  40.0\n",
      "Perimeter of the rectangle is  26.0\n"
     ]
    }
   ],
   "source": [
    "l = float(input(\"Enter the length of rectangle: \"))\n",
    "b = float(input(\"Enter the breadth of rectangle: \"))\n",
    "def area(l,b):\n",
    "    area = l*b\n",
    "    return area\n",
    "def perimeter(l,b):\n",
    "    perimeter = 2*(l+b)\n",
    "    return perimeter\n",
    "print(\"Area of the rectangle is \" ,area(l,b))\n",
    "print(\"Perimeter of the rectangle is \",perimeter(l,b))\n"
   ]
  },
  {
   "cell_type": "markdown",
   "metadata": {},
   "source": [
    "## 4. Write a program to print the fibonacci series till a specified number"
   ]
  },
  {
   "cell_type": "code",
   "execution_count": 13,
   "metadata": {},
   "outputs": [
    {
     "name": "stdout",
     "output_type": "stream",
     "text": [
      "Enter the number of terms: 8\n",
      "0\n",
      "1\n",
      "1\n",
      "2\n",
      "3\n",
      "5\n",
      "8\n",
      "13\n"
     ]
    }
   ],
   "source": [
    "n = int(input(\"Enter the number of terms: \"))\n",
    "n1,n2=0,1\n",
    "count = 0\n",
    "while count<n:\n",
    "    print(n1)\n",
    "    n3=n1+n2\n",
    "    n1=n2\n",
    "    n2=n3\n",
    "    count+=1"
   ]
  },
  {
   "cell_type": "markdown",
   "metadata": {},
   "source": [
    "## 5. Complete the following code to find the minimum of 3 number using conditional statements. Output should be as displayed"
   ]
  },
  {
   "cell_type": "code",
   "execution_count": 4,
   "metadata": {},
   "outputs": [
    {
     "name": "stdout",
     "output_type": "stream",
     "text": [
      "Enter three numbers followed by  : -19 -100 -9\n",
      "First number : -19\n",
      "Second number : -100\n",
      "Third number : -9\n",
      "-100  is smallest\n"
     ]
    }
   ],
   "source": [
    "a,b,c = input(\"Enter three numbers followed by  : \").split()\n",
    "\n",
    "print(\"First number :\",a)\n",
    "print(\"Second number :\",b)\n",
    "print(\"Third number :\",c)\n",
    "if(a==b==c):\n",
    "    print(\"Entered numbers are equal!!!\")\n",
    "elif(a<b) and (a<c):\n",
    "    print(a,\" is smallest\")\n",
    "elif(b<a) and (b<c):\n",
    "    print(b,\" is smallest\")\n",
    "else:\n",
    "    print(c,\" is smallest\")"
   ]
  },
  {
   "cell_type": "markdown",
   "metadata": {},
   "source": [
    "## 6. Write a program to print star pyramind. The number of rows should be taken as input from the user"
   ]
  },
  {
   "cell_type": "code",
   "execution_count": 20,
   "metadata": {},
   "outputs": [
    {
     "name": "stdout",
     "output_type": "stream",
     "text": [
      "Enter the number of rows: 10\n",
      "           \n",
      "         *  \n",
      "        * *  \n",
      "       * * *  \n",
      "      * * * *  \n",
      "     * * * * *  \n",
      "    * * * * * *  \n",
      "   * * * * * * *  \n",
      "  * * * * * * * *  \n",
      " * * * * * * * * *  \n",
      "* * * * * * * * * *  \n"
     ]
    }
   ],
   "source": [
    "x = int(input(\"Enter the number of rows: \"))\n",
    "for i in range(0,x+1):\n",
    "    for j in range(0,x-i):\n",
    "        print(end=\" \")\n",
    "    for j in range(0,i):\n",
    "        print(\"*\",end=\" \")\n",
    "    print(' ') \n"
   ]
  },
  {
   "cell_type": "markdown",
   "metadata": {},
   "source": [
    "## 7. Complete the following code to convert hour into seconds. Output should be as displayed"
   ]
  },
  {
   "cell_type": "code",
   "execution_count": 5,
   "metadata": {},
   "outputs": [
    {
     "name": "stdout",
     "output_type": "stream",
     "text": [
      "Enter time in Hours :24\n",
      "24  Hour is equal to 86400  Seconds\n"
     ]
    }
   ],
   "source": [
    "def to_seconds(t):\n",
    "    t=t*60*60 \n",
    "    return t\n",
    "time_in_hours = int(input(\"Enter time in Hours :\"))\n",
    "print(time_in_hours ,\" Hour is equal to\" ,to_seconds(time_in_hours) ,\" Seconds\")"
   ]
  },
  {
   "cell_type": "markdown",
   "metadata": {},
   "source": [
    "## 8. Write a program to print multiplication table as below"
   ]
  },
  {
   "cell_type": "code",
   "execution_count": 2,
   "metadata": {},
   "outputs": [
    {
     "name": "stdout",
     "output_type": "stream",
     "text": [
      "Enter a number to find the multiplication table: 67\n",
      "1 * 67 = 67\n",
      "2 * 67 = 134\n",
      "3 * 67 = 201\n",
      "4 * 67 = 268\n",
      "5 * 67 = 335\n",
      "6 * 67 = 402\n",
      "7 * 67 = 469\n",
      "8 * 67 = 536\n",
      "9 * 67 = 603\n",
      "10 * 67 = 670\n"
     ]
    }
   ],
   "source": [
    "x = int(input(\"Enter a number to find the multiplication table: \"))\n",
    "for i in range(1,11):\n",
    "    print(i,\"*\",x,\"=\",i*x)"
   ]
  },
  {
   "cell_type": "markdown",
   "metadata": {},
   "source": [
    "## 9. Write a program to take your 5 favorite food as list and print each as 'I like Biriyani'"
   ]
  },
  {
   "cell_type": "code",
   "execution_count": 1,
   "metadata": {},
   "outputs": [
    {
     "name": "stdout",
     "output_type": "stream",
     "text": [
      "I like  biriyani\n",
      "I like  fried rice\n",
      "I like  dosa\n",
      "I like  ice cream\n",
      "I like  yoghurt\n"
     ]
    }
   ],
   "source": [
    "food = ['biriyani','fried rice','dosa','ice cream','yoghurt']\n",
    "for i in food:\n",
    "    print(\"I like \",i)"
   ]
  },
  {
   "cell_type": "code",
   "execution_count": null,
   "metadata": {},
   "outputs": [],
   "source": []
  }
 ],
 "metadata": {
  "kernelspec": {
   "display_name": "Python 3 (ipykernel)",
   "language": "python",
   "name": "python3"
  },
  "language_info": {
   "codemirror_mode": {
    "name": "ipython",
    "version": 3
   },
   "file_extension": ".py",
   "mimetype": "text/x-python",
   "name": "python",
   "nbconvert_exporter": "python",
   "pygments_lexer": "ipython3",
   "version": "3.9.7"
  }
 },
 "nbformat": 4,
 "nbformat_minor": 4
}
